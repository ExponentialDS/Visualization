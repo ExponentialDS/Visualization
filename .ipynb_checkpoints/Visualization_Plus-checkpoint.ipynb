{
 "cells": [
  {
   "cell_type": "markdown",
   "id": "03620713",
   "metadata": {},
   "source": [
    "\n",
    "# World Bank Data Visualization Playground\n",
    "\n",
    "This notebook shows how to fetch data using **`wbdata`** (World Bank Data) and visualize it with multiple Python libraries:\n",
    "\n",
    "- Matplotlib\n",
    "- Seaborn\n",
    "- Plotly (Graph Objects & Express)\n",
    "- Altair\n",
    "- Bokeh\n",
    "\n",
    "It also provides starter app files for **Streamlit** and **Dash** for quick interactive dashboards, plus a brief note on vendor BI tools.\n"
   ]
  },
  {
   "cell_type": "markdown",
   "id": "c732423b",
   "metadata": {},
   "source": [
    "\n",
    "## 1) Environment setup\n",
    "\n",
    "Run the following cell to install dependencies (safe to re-run). If you're on a managed environment (e.g., Codespaces, Colab), you may already have some of these.\n"
   ]
  },
  {
   "cell_type": "code",
   "execution_count": null,
   "id": "6c8cde09",
   "metadata": {},
   "outputs": [],
   "source": [
    "\n",
    "%pip -q install wbdata pandas numpy matplotlib seaborn plotly altair bokeh jinja2 --upgrade\n"
   ]
  },
  {
   "cell_type": "markdown",
   "id": "a422db2c",
   "metadata": {},
   "source": [
    "\n",
    "## 2) Imports & Configuration\n"
   ]
  },
  {
   "cell_type": "code",
   "execution_count": null,
   "id": "598e7520",
   "metadata": {},
   "outputs": [],
   "source": [
    "\n",
    "import warnings\n",
    "warnings.filterwarnings(\"ignore\")\n",
    "\n",
    "import pandas as pd\n",
    "import numpy as np\n",
    "import wbdata as wb\n",
    "import datetime as dt\n",
    "\n",
    "import matplotlib.pyplot as plt\n",
    "import seaborn as sns\n",
    "\n",
    "import plotly.graph_objects as go\n",
    "import plotly.express as px\n",
    "\n",
    "import altair as alt\n",
    "\n",
    "from bokeh.plotting import figure, show\n",
    "from bokeh.io import output_notebook\n",
    "from bokeh.models import HoverTool\n",
    "output_notebook()\n",
    "\n",
    "# pandas display\n",
    "pd.set_option(\"display.max_rows\", 8)\n",
    "pd.set_option(\"display.max_columns\", None)\n"
   ]
  },
  {
   "cell_type": "markdown",
   "id": "bca5ee97",
   "metadata": {},
   "source": [
    "\n",
    "## 3) Fetch World Bank data with `wbdata`\n",
    "\n",
    "We'll pull **GDP per capita (current US$)** (`NY.GDP.PCAP.CD`) for a handful of countries from **2000 through the most recent available year**.\n"
   ]
  },
  {
   "cell_type": "code",
   "execution_count": null,
   "id": "c7d015f4",
   "metadata": {},
   "outputs": [],
   "source": [
    "\n",
    "# Choose a few countries by ISO codes\n",
    "countries = [\"USA\", \"GBR\", \"DEU\", \"IND\", \"CHN\", \"BRA\", \"ZAF\"]\n",
    "\n",
    "# Indicator: GDP per capita (current US$)\n",
    "indicator = {\"NY.GDP.PCAP.CD\": \"gdp_per_capita_usd\"}\n",
    "\n",
    "# Date range (2000 -> today)\n",
    "data_date = (dt.datetime(2000, 1, 1), dt.datetime.today())\n",
    "\n",
    "# Fetch\n",
    "df_raw = wb.get_dataframe(indicator, country=countries, data_date=data_date, convert_date=True)\n",
    "\n",
    "# Tidy up the multi-index (country, date)\n",
    "df = df_raw.reset_index().rename(columns={\"country\": \"country\", \"date\": \"date\"}).sort_values([\"country\", \"date\"])\n",
    "\n",
    "# Peek\n",
    "df.head()\n"
   ]
  },
  {
   "cell_type": "markdown",
   "id": "292d7ddf",
   "metadata": {},
   "source": [
    "\n",
    "## 4) Quick EDA\n"
   ]
  },
  {
   "cell_type": "code",
   "execution_count": null,
   "id": "beeb8800",
   "metadata": {},
   "outputs": [],
   "source": [
    "\n",
    "summary = (\n",
    "    df.groupby(\"country\")[\"gdp_per_capita_usd\"]\n",
    "    .agg([\"count\", \"min\", \"median\", \"mean\", \"max\"])\n",
    "    .round(2)\n",
    "    .sort_values(\"mean\", ascending=False)\n",
    ")\n",
    "summary\n"
   ]
  },
  {
   "cell_type": "markdown",
   "id": "e59ce50f",
   "metadata": {},
   "source": [
    "\n",
    "## 5) Matplotlib line chart\n"
   ]
  },
  {
   "cell_type": "code",
   "execution_count": null,
   "id": "c25ca4a3",
   "metadata": {},
   "outputs": [],
   "source": [
    "\n",
    "plt.figure(figsize=(10,6))\n",
    "for c in countries:\n",
    "    sub = df[df[\"country\"] == c]\n",
    "    plt.plot(sub[\"date\"], sub[\"gdp_per_capita_usd\"], label=c)\n",
    "plt.title(\"GDP per capita (current US$)\")\n",
    "plt.xlabel(\"Year\")\n",
    "plt.ylabel(\"USD\")\n",
    "plt.legend()\n",
    "plt.grid(True)\n",
    "plt.show()\n"
   ]
  },
  {
   "cell_type": "markdown",
   "id": "24990435",
   "metadata": {},
   "source": [
    "\n",
    "## 6) Seaborn lineplot + facet\n"
   ]
  },
  {
   "cell_type": "code",
   "execution_count": null,
   "id": "17366c99",
   "metadata": {},
   "outputs": [],
   "source": [
    "\n",
    "sns.lineplot(data=df, x=\"date\", y=\"gdp_per_capita_usd\", hue=\"country\")\n",
    "plt.title(\"GDP per capita by Country\")\n",
    "plt.xlabel(\"Year\")\n",
    "plt.ylabel(\"USD\")\n",
    "plt.show()\n",
    "\n",
    "# FacetGrid example (small multiples)\n",
    "g = sns.FacetGrid(df, col=\"country\", col_wrap=3, sharey=False, height=3)\n",
    "g.map_dataframe(sns.lineplot, x=\"date\", y=\"gdp_per_capita_usd\")\n",
    "g.set_titles(\"{col_name}\")\n",
    "for ax in g.axes.flatten():\n",
    "    ax.set_xlabel(\"Year\")\n",
    "    ax.set_ylabel(\"USD\")\n",
    "plt.show()\n"
   ]
  },
  {
   "cell_type": "markdown",
   "id": "f725ac60",
   "metadata": {},
   "source": [
    "\n",
    "## 7) Plotly (Graph Objects) interactive line\n"
   ]
  },
  {
   "cell_type": "code",
   "execution_count": null,
   "id": "69c0a417",
   "metadata": {},
   "outputs": [],
   "source": [
    "\n",
    "fig = go.Figure()\n",
    "for c in countries:\n",
    "    sub = df[df[\"country\"] == c]\n",
    "    fig.add_trace(go.Scatter(x=sub[\"date\"], y=sub[\"gdp_per_capita_usd\"], mode=\"lines\", name=c))\n",
    "fig.update_layout(\n",
    "    title=\"GDP per capita (current US$)\",\n",
    "    xaxis_title=\"Year\",\n",
    "    yaxis_title=\"USD\",\n",
    "    hovermode=\"x unified\"\n",
    ")\n",
    "fig.show()\n"
   ]
  },
  {
   "cell_type": "markdown",
   "id": "d917a1d7",
   "metadata": {},
   "source": [
    "\n",
    "## 8) Plotly Express quick chart\n"
   ]
  },
  {
   "cell_type": "code",
   "execution_count": null,
   "id": "198f27f8",
   "metadata": {},
   "outputs": [],
   "source": [
    "\n",
    "fig = px.line(df, x=\"date\", y=\"gdp_per_capita_usd\", color=\"country\",\n",
    "              title=\"GDP per capita (current US$) — Plotly Express\")\n",
    "fig.show()\n"
   ]
  },
  {
   "cell_type": "markdown",
   "id": "02e526a2",
   "metadata": {},
   "source": [
    "\n",
    "## 9) Altair\n"
   ]
  },
  {
   "cell_type": "code",
   "execution_count": null,
   "id": "ca4584dc",
   "metadata": {},
   "outputs": [],
   "source": [
    "\n",
    "alt.data_transformers.disable_max_rows()\n",
    "chart = (\n",
    "    alt.Chart(df)\n",
    "    .mark_line()\n",
    "    .encode(\n",
    "        x=\"date:T\",\n",
    "        y=alt.Y(\"gdp_per_capita_usd:Q\", title=\"USD\"),\n",
    "        color=\"country:N\",\n",
    "        tooltip=[\"country\", alt.Tooltip(\"date:T\", title=\"Year\"), alt.Tooltip(\"gdp_per_capita_usd:Q\", format=\",.0f\", title=\"USD\")]\n",
    "    )\n",
    "    .properties(width=700, height=400, title=\"GDP per capita (current US$) — Altair\")\n",
    "    .interactive()\n",
    ")\n",
    "chart\n"
   ]
  },
  {
   "cell_type": "markdown",
   "id": "2341c2fd",
   "metadata": {},
   "source": [
    "\n",
    "## 10) Bokeh\n"
   ]
  },
  {
   "cell_type": "code",
   "execution_count": null,
   "id": "14028d98",
   "metadata": {},
   "outputs": [],
   "source": [
    "\n",
    "p = figure(title=\"GDP per capita (current US$) — Bokeh\", x_axis_type=\"datetime\", width=800, height=400, tooltips=[(\"Country\",\"$name\"),(\"Year\",\"@x{%Y}\"),(\"USD\",\"@y{0,0}\")])\n",
    "p.add_tools(HoverTool(tooltips=None, mode='vline'))\n",
    "\n",
    "for c in countries:\n",
    "    sub = df[df[\"country\"] == c]\n",
    "    p.line(x=sub[\"date\"], y=sub[\"gdp_per_capita_usd\"], legend_label=c, name=c)\n",
    "\n",
    "p.xaxis.axis_label = \"Year\"\n",
    "p.yaxis.axis_label = \"USD\"\n",
    "p.legend.click_policy = \"hide\"\n",
    "show(p)\n"
   ]
  },
  {
   "cell_type": "markdown",
   "id": "29489671",
   "metadata": {},
   "source": [
    "\n",
    "## 11) Note on vendor BI tools (Power BI, Tableau, etc.)\n",
    "\n",
    "For production dashboards or where enterprise governance, data modeling, and distribution are key, consider vendor BI solutions:\n",
    "- **Power BI**: tight Microsoft 365/Teams integration, robust DAX modeling, row-level security, and enterprise deployment pipelines.\n",
    "- **Tableau**: powerful visual analytics & storytelling, strong viz grammar, and mature Server/Cloud for sharing.\n",
    "- **Looker/Looker Studio**: semantic modeling (LookML), Google Cloud integration, and lightweight reporting.\n",
    "Python notebooks remain excellent for rapid prototyping, data science exploration, and custom analytics that exceed the typical scope of canned visuals.\n"
   ]
  },
  {
   "cell_type": "markdown",
   "id": "f0ac23bf",
   "metadata": {},
   "source": [
    "\n",
    "## 12) Appendix — Change indicators or countries\n",
    "\n",
    "- To use a different indicator, replace `NY.GDP.PCAP.CD` with any World Bank indicator code (e.g., `SP.POP.TOTL` for population).\n",
    "- To change countries, update the `countries = [...]` list with ISO3 codes.\n"
   ]
  },
  {
   "cell_type": "code",
   "execution_count": null,
   "id": "a2a127d2",
   "metadata": {},
   "outputs": [],
   "source": [
    "\n",
    "# Example: switch to population and re-run the EDA/plot cells\n",
    "# indicator = {\"SP.POP.TOTL\": \"population\"}\n",
    "# df_raw = wb.get_dataframe(indicator, country=countries, data_date=data_date, convert_date=True)\n",
    "# df = df_raw.reset_index().rename(columns={\"country\": \"country\", \"date\": \"date\"}).sort_values([\"country\", \"date\"])\n",
    "# df.head()\n"
   ]
  },
  {
   "cell_type": "markdown",
   "id": "dc0d03e4",
   "metadata": {},
   "source": [
    "\n",
    "## 13) Optional extras — more visualization libraries\n",
    "\n",
    "Run this once if you want the additional approaches below.\n"
   ]
  },
  {
   "cell_type": "code",
   "execution_count": null,
   "id": "93bbb442",
   "metadata": {},
   "outputs": [],
   "source": [
    "\n",
    "%pip -q install hvplot holoviews panel datashader geopandas folium networkx pyvis plotnine --upgrade\n"
   ]
  },
  {
   "cell_type": "markdown",
   "id": "567445a7",
   "metadata": {},
   "source": [
    "\n",
    "## 14) hvPlot / HoloViews (interactive, declarative)\n",
    "\n",
    "`hvPlot` gives you a **high-level, pandas-like** plotting API on top of **HoloViews** with Bokeh/Plotly backends.\n"
   ]
  },
  {
   "cell_type": "code",
   "execution_count": null,
   "id": "d7e56936",
   "metadata": {},
   "outputs": [],
   "source": [
    "\n",
    "import hvplot.pandas  # registers .hvplot accessor\n",
    "import holoviews as hv\n",
    "hv.extension('bokeh')\n",
    "\n",
    "# Interactive line using hvPlot\n",
    "(df\n",
    " .set_index('date')\n",
    " .pivot(columns='country', values='gdp_per_capita_usd')\n",
    " .hvplot.line(width=800, height=400, legend='top_left', title='GDP per capita — hvPlot'))\n"
   ]
  },
  {
   "cell_type": "markdown",
   "id": "2f76391a",
   "metadata": {},
   "source": [
    "\n",
    "## 15) Panel mini-dashboard (HoloViz)\n",
    "\n",
    "A lightweight dashboard alternative to Streamlit/Dash that works with Bokeh/Plotly/Altair/HoloViews.\n"
   ]
  },
  {
   "cell_type": "code",
   "execution_count": null,
   "id": "4568e259",
   "metadata": {},
   "outputs": [],
   "source": [
    "\n",
    "import panel as pn\n",
    "pn.extension('plotly')\n",
    "\n",
    "countries_select = pn.widgets.MultiChoice(name='Countries', value=['USA','GBR','IND'], options=sorted(df['country'].unique().tolist()))\n",
    "@pn.depends(countries_select)\n",
    "def panel_plot(countries):\n",
    "    sub = df[df['country'].isin(countries)]\n",
    "    return px.line(sub, x='date', y='gdp_per_capita_usd', color='country', title='GDP per capita — Panel + Plotly')\n",
    "\n",
    "pn.Row(countries_select, pn.bind(panel_plot, countries_select))\n"
   ]
  },
  {
   "cell_type": "markdown",
   "id": "8688837d",
   "metadata": {},
   "source": [
    "\n",
    "## 16) Folium (interactive maps)\n",
    "\n",
    "Choropleth map of the **latest GDP per capita** by country using `folium` + a public world GeoJSON.\n"
   ]
  },
  {
   "cell_type": "code",
   "execution_count": null,
   "id": "eb47d2e8",
   "metadata": {},
   "outputs": [],
   "source": [
    "\n",
    "import folium, json, pandas as pd, numpy as np\n",
    "\n",
    "# Latest year per country\n",
    "latest = df.sort_values('date').groupby('country', as_index=False).tail(1)\n",
    "latest = latest[['country','gdp_per_capita_usd']].rename(columns={'country':'ISO_A3','gdp_per_capita_usd':'value'})\n",
    "\n",
    "# Load world boundaries\n",
    "import urllib.request, ssl\n",
    "ssl._create_default_https_context = ssl._create_unverified_context\n",
    "url = \"https://raw.githubusercontent.com/johan/world.geo.json/master/countries.geo.json\"\n",
    "with urllib.request.urlopen(url) as response:\n",
    "    world_geo = json.loads(response.read().decode())\n",
    "\n",
    "m = folium.Map(location=[20,0], zoom_start=2, tiles=\"cartodbpositron\")\n",
    "folium.Choropleth(\n",
    "    geo_data=world_geo,\n",
    "    data=latest,\n",
    "    columns=['ISO_A3','value'],\n",
    "    key_on='feature.id',\n",
    "    fill_opacity=0.8, line_opacity=0.2,\n",
    "    legend_name='GDP per capita (current US$) — latest',\n",
    ").add_to(m)\n",
    "m\n"
   ]
  },
  {
   "cell_type": "markdown",
   "id": "2d924564",
   "metadata": {},
   "source": [
    "\n",
    "## 17) Network visualization (NetworkX + PyVis)\n",
    "\n",
    "Build a simple **similarity network**: connect countries whose GDP per capita **correlation** exceeds a threshold.\n"
   ]
  },
  {
   "cell_type": "code",
   "execution_count": null,
   "id": "c2c66779",
   "metadata": {},
   "outputs": [],
   "source": [
    "\n",
    "import networkx as nx\n",
    "from pyvis.network import Network\n",
    "\n",
    "# Pivot to wide for correlation\n",
    "wide = (df.pivot_table(index='date', columns='country', values='gdp_per_capita_usd'))\n",
    "corr = wide.corr(min_periods=10)\n",
    "\n",
    "G = nx.Graph()\n",
    "for c in corr.columns:\n",
    "    G.add_node(c)\n",
    "threshold = 0.95\n",
    "for i in corr.columns:\n",
    "    for j in corr.columns:\n",
    "        if i < j and corr.loc[i,j] >= threshold:\n",
    "            G.add_edge(i,j, weight=float(corr.loc[i,j]))\n",
    "\n",
    "net = Network(height=\"500px\", width=\"100%\", notebook=True)\n",
    "net.from_nx(G)\n",
    "net.show(\"network.html\")\n",
    "from IPython.display import IFrame\n",
    "IFrame(src=\"network.html\", width=\"100%\", height=520)\n"
   ]
  },
  {
   "cell_type": "markdown",
   "id": "f3cd53e9",
   "metadata": {},
   "source": [
    "\n",
    "## 18) Plotnine (ggplot-style)\n",
    "\n",
    "A grammar-of-graphics API similar to R's ggplot2.\n"
   ]
  },
  {
   "cell_type": "code",
   "execution_count": null,
   "id": "db431a05",
   "metadata": {},
   "outputs": [],
   "source": [
    "\n",
    "from plotnine import ggplot, aes, geom_line, facet_wrap, labs, theme_minimal\n",
    "\n",
    "p = (ggplot(df, aes('date','gdp_per_capita_usd', color='country'))\n",
    "     + geom_line()\n",
    "     + labs(title='GDP per capita — Plotnine', x='Year', y='USD')\n",
    "     + theme_minimal())\n",
    "p\n"
   ]
  },
  {
   "cell_type": "markdown",
   "id": "d144b881",
   "metadata": {},
   "source": [
    "\n",
    "## 19) Datashader (very large data)\n",
    "\n",
    "For millions of points/lines, use **Datashader** to rasterize efficiently. Example below simulates data for demonstration.\n"
   ]
  },
  {
   "cell_type": "code",
   "execution_count": null,
   "id": "5bd89e45",
   "metadata": {},
   "outputs": [],
   "source": [
    "\n",
    "import datashader as ds\n",
    "import datashader.transfer_functions as tf\n",
    "from datashader.multipolygon import _\n",
    "\n",
    "# Simulate large time series\n",
    "n = 1_000_00\n",
    "rng = pd.date_range('2000-01-01', periods=n, freq='D')\n",
    "vals = np.cumsum(np.random.randn(n))\n",
    "big = pd.DataFrame({'date': rng, 'value': vals})\n",
    "\n",
    "canvas = ds.Canvas(x_range=(big['date'].min().value, big['date'].max().value), y_range=(big['value'].min(), big['value'].max()), plot_width=800, plot_height=300)\n",
    "agg = canvas.line(big, 'date', 'value')\n",
    "tf.shade(agg)\n"
   ]
  },
  {
   "cell_type": "markdown",
   "id": "fbada945",
   "metadata": {},
   "source": [
    "\n",
    "## 20) Notes on other approaches (at a glance)\n",
    "\n",
    "- **Geospatial**: GeoPandas + Cartopy (projection-aware), Kepler.gl (Jupyter widget), Deck.gl via `pydeck`.\n",
    "- **3D & scientific**: PyVista, Mayavi, VTK for volumetric/mesh data; Plotly 3D for quick surfaces.\n",
    "- **Interactive widgets**: `ipywidgets`, `ipympl`, `ipycytoscape` for rich Jupyter interactivity.\n",
    "- **Notebook → app**: Voila (turn notebooks into apps), **Shiny for Python** (R's Shiny port), **Gradio** (fast ML demos).\n",
    "- **Reporting**: `nbconvert`/`papermill`, and static site builds with Quarto.\n",
    "\n",
    "### Google visualization approaches\n",
    "- **Google Charts (Visualization API)**: Rich interactive charts for the web; you can serve data from Python (e.g., with `gviz_api`) and render in HTML/JS.\n",
    "- **Looker Studio (formerly Data Studio)**: Free browser-based dashboards connecting to Sheets, BigQuery, and more.\n",
    "- **Looker (LookML)**: Enterprise semantic layer + governed dashboards; strong integration with BigQuery.\n",
    "- **Google Sheets**: Built-in charts; use **Connected Sheets** for BigQuery-scale analysis without SQL.\n",
    "- **Colab**: Good default table/plot experiences; supports rendering Plotly/Altair/Bokeh; easy to share notebooks with viewers in Google Drive.\n"
   ]
  }
 ],
 "metadata": {},
 "nbformat": 4,
 "nbformat_minor": 5
}
