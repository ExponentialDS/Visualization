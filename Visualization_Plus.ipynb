{
 "cells": [
  {
   "cell_type": "markdown",
   "id": "03620713",
   "metadata": {},
   "source": [
    "\n",
    "# World Bank Data Visualization Playground\n",
    "\n",
    "This notebook shows how to fetch data using **`wbdata`** (World Bank Data) and visualize it with multiple Python libraries:\n",
    "\n",
    "- Matplotlib\n",
    "- Seaborn\n",
    "- Plotly (Graph Objects & Express)\n",
    "- Altair\n",
    "- Bokeh\n",
    "\n",
    "It also provides starter app files for **Streamlit** and **Dash** for quick interactive dashboards, plus a brief note on vendor BI tools.\n"
   ]
  },
  {
   "cell_type": "markdown",
   "id": "c732423b",
   "metadata": {},
   "source": [
    "\n",
    "## 1) Environment setup\n",
    "\n",
    "Run the following cell to install dependencies (safe to re-run). If you're on a managed environment (e.g., Codespaces, Colab), you may already have some of these.\n"
   ]
  },
  {
   "cell_type": "code",
   "execution_count": 2,
   "id": "6c8cde09",
   "metadata": {
    "tags": []
   },
   "outputs": [
    {
     "name": "stdout",
     "output_type": "stream",
     "text": [
      "^C\n",
      "Note: you may need to restart the kernel to use updated packages.\n"
     ]
    }
   ],
   "source": [
    "\n",
    "%pip -q install wbdata pandas numpy matplotlib seaborn plotly altair bokeh jinja2 --upgrade\n"
   ]
  },
  {
   "cell_type": "code",
   "execution_count": 2,
   "id": "d048995e-ff6e-423a-bc49-e51eafd6a28f",
   "metadata": {
    "tags": []
   },
   "outputs": [
    {
     "name": "stdout",
     "output_type": "stream",
     "text": [
      "Requirement already satisfied: wbdata in c:\\users\\crist\\anaconda3\\lib\\site-packages (1.0.0)\n",
      "Requirement already satisfied: appdirs<2.0,>=1.4 in c:\\users\\crist\\anaconda3\\lib\\site-packages (from wbdata) (1.4.4)\n",
      "Requirement already satisfied: backoff<3.0.0,>=2.2.1 in c:\\users\\crist\\anaconda3\\lib\\site-packages (from wbdata) (2.2.1)\n",
      "Requirement already satisfied: cachetools<6.0.0,>=5.3.2 in c:\\users\\crist\\anaconda3\\lib\\site-packages (from wbdata) (5.5.0)\n",
      "Requirement already satisfied: dateparser<2.0.0,>=1.2.0 in c:\\users\\crist\\anaconda3\\lib\\site-packages (from wbdata) (1.2.2)\n",
      "Requirement already satisfied: decorator<6.0.0,>=5.1.1 in c:\\users\\crist\\anaconda3\\lib\\site-packages (from wbdata) (5.1.1)\n",
      "Requirement already satisfied: requests<3.0,>=2.0 in c:\\users\\crist\\anaconda3\\lib\\site-packages (from wbdata) (2.31.0)\n",
      "Requirement already satisfied: shelved-cache<0.4.0,>=0.3.1 in c:\\users\\crist\\anaconda3\\lib\\site-packages (from wbdata) (0.3.1)\n",
      "Requirement already satisfied: tabulate<0.9.0,>=0.8.5 in c:\\users\\crist\\anaconda3\\lib\\site-packages (from wbdata) (0.8.10)\n",
      "Requirement already satisfied: python-dateutil>=2.7.0 in c:\\users\\crist\\anaconda3\\lib\\site-packages (from dateparser<2.0.0,>=1.2.0->wbdata) (2.8.2)\n",
      "Requirement already satisfied: pytz>=2024.2 in c:\\users\\crist\\anaconda3\\lib\\site-packages (from dateparser<2.0.0,>=1.2.0->wbdata) (2025.2)\n",
      "Requirement already satisfied: regex>=2024.9.11 in c:\\users\\crist\\anaconda3\\lib\\site-packages (from dateparser<2.0.0,>=1.2.0->wbdata) (2025.7.34)\n",
      "Requirement already satisfied: tzlocal>=0.2 in c:\\users\\crist\\anaconda3\\lib\\site-packages (from dateparser<2.0.0,>=1.2.0->wbdata) (5.3.1)\n",
      "Requirement already satisfied: charset-normalizer<4,>=2 in c:\\users\\crist\\anaconda3\\lib\\site-packages (from requests<3.0,>=2.0->wbdata) (2.0.4)\n",
      "Requirement already satisfied: idna<4,>=2.5 in c:\\users\\crist\\anaconda3\\lib\\site-packages (from requests<3.0,>=2.0->wbdata) (3.4)\n",
      "Requirement already satisfied: urllib3<3,>=1.21.1 in c:\\users\\crist\\anaconda3\\lib\\site-packages (from requests<3.0,>=2.0->wbdata) (1.26.16)\n",
      "Requirement already satisfied: certifi>=2017.4.17 in c:\\users\\crist\\anaconda3\\lib\\site-packages (from requests<3.0,>=2.0->wbdata) (2024.12.14)\n",
      "Requirement already satisfied: six>=1.5 in c:\\users\\crist\\anaconda3\\lib\\site-packages (from python-dateutil>=2.7.0->dateparser<2.0.0,>=1.2.0->wbdata) (1.16.0)\n",
      "Requirement already satisfied: tzdata in c:\\users\\crist\\anaconda3\\lib\\site-packages (from tzlocal>=0.2->dateparser<2.0.0,>=1.2.0->wbdata) (2023.3)\n"
     ]
    },
    {
     "name": "stderr",
     "output_type": "stream",
     "text": [
      "\n",
      "[notice] A new release of pip is available: 25.0.1 -> 25.2\n",
      "[notice] To update, run: python.exe -m pip install --upgrade pip\n"
     ]
    }
   ],
   "source": [
    "!pip install wbdata"
   ]
  },
  {
   "cell_type": "markdown",
   "id": "a422db2c",
   "metadata": {},
   "source": [
    "\n",
    "## 2) Imports & Configuration\n"
   ]
  },
  {
   "cell_type": "code",
   "execution_count": 9,
   "id": "598e7520",
   "metadata": {
    "tags": []
   },
   "outputs": [
    {
     "data": {
      "text/html": [
       "    <style>\n",
       "        .bk-notebook-logo {\n",
       "            display: block;\n",
       "            width: 20px;\n",
       "            height: 20px;\n",
       "            background-image: url(data:image/png;base64,iVBORw0KGgoAAAANSUhEUgAAABQAAAAUCAYAAACNiR0NAAAABHNCSVQICAgIfAhkiAAAAAlwSFlzAAALEgAACxIB0t1+/AAAABx0RVh0U29mdHdhcmUAQWRvYmUgRmlyZXdvcmtzIENTNui8sowAAAOkSURBVDiNjZRtaJVlGMd/1/08zzln5zjP1LWcU9N0NkN8m2CYjpgQYQXqSs0I84OLIC0hkEKoPtiH3gmKoiJDU7QpLgoLjLIQCpEsNJ1vqUOdO7ppbuec5+V+rj4ctwzd8IIbbi6u+8f1539dt3A78eXC7QizUF7gyV1fD1Yqg4JWz84yffhm0qkFqBogB9rM8tZdtwVsPUhWhGcFJngGeWrPzHm5oaMmkfEg1usvLFyc8jLRqDOMru7AyC8saQr7GG7f5fvDeH7Ej8CM66nIF+8yngt6HWaKh7k49Soy9nXurCi1o3qUbS3zWfrYeQDTB/Qj6kX6Ybhw4B+bOYoLKCC9H3Nu/leUTZ1JdRWkkn2ldcCamzrcf47KKXdAJllSlxAOkRgyHsGC/zRday5Qld9DyoM4/q/rUoy/CXh3jzOu3bHUVZeU+DEn8FInkPBFlu3+nW3Nw0mk6vCDiWg8CeJaxEwuHS3+z5RgY+YBR6V1Z1nxSOfoaPa4LASWxxdNp+VWTk7+4vzaou8v8PN+xo+KY2xsw6une2frhw05CTYOmQvsEhjhWjn0bmXPjpE1+kplmmkP3suftwTubK9Vq22qKmrBhpY4jvd5afdRA3wGjFAgcnTK2s4hY0/GPNIb0nErGMCRxWOOX64Z8RAC4oCXdklmEvcL8o0BfkNK4lUg9HTl+oPlQxdNo3Mg4Nv175e/1LDGzZen30MEjRUtmXSfiTVu1kK8W4txyV6BMKlbgk3lMwYCiusNy9fVfvvwMxv8Ynl6vxoByANLTWplvuj/nF9m2+PDtt1eiHPBr1oIfhCChQMBw6Aw0UulqTKZdfVvfG7VcfIqLG9bcldL/+pdWTLxLUy8Qq38heUIjh4XlzZxzQm19lLFlr8vdQ97rjZVOLf8nclzckbcD4wxXMidpX30sFd37Fv/GtwwhzhxGVAprjbg0gCAEeIgwCZyTV2Z1REEW8O4py0wsjeloKoMr6iCY6dP92H6Vw/oTyICIthibxjm/DfN9lVz8IqtqKYLUXfoKVMVQVVJOElGjrnnUt9T9wbgp8AyYKaGlqingHZU/uG2NTZSVqwHQTWkx9hxjkpWDaCg6Ckj5qebgBVbT3V3NNXMSiWSDdGV3hrtzla7J+duwPOToIg42ChPQOQjspnSlp1V+Gjdged7+8UN5CRAV7a5EdFNwCjEaBR27b3W890TE7g24NAP/mMDXRWrGoFPQI9ls/MWO2dWFAar/xcOIImbbpA3zgAAAABJRU5ErkJggg==);\n",
       "        }\n",
       "    </style>\n",
       "    <div>\n",
       "        <a href=\"https://bokeh.org\" target=\"_blank\" class=\"bk-notebook-logo\"></a>\n",
       "        <span id=\"e88f87bc-8899-42f6-b6ab-1e1afbbdf052\">Loading BokehJS ...</span>\n",
       "    </div>\n"
      ]
     },
     "metadata": {},
     "output_type": "display_data"
    },
    {
     "data": {
      "application/javascript": [
       "'use strict';\n",
       "(function(root) {\n",
       "  function now() {\n",
       "    return new Date();\n",
       "  }\n",
       "\n",
       "  const force = true;\n",
       "\n",
       "  if (typeof root._bokeh_onload_callbacks === \"undefined\" || force === true) {\n",
       "    root._bokeh_onload_callbacks = [];\n",
       "    root._bokeh_is_loading = undefined;\n",
       "  }\n",
       "\n",
       "const JS_MIME_TYPE = 'application/javascript';\n",
       "  const HTML_MIME_TYPE = 'text/html';\n",
       "  const EXEC_MIME_TYPE = 'application/vnd.bokehjs_exec.v0+json';\n",
       "  const CLASS_NAME = 'output_bokeh rendered_html';\n",
       "\n",
       "  /**\n",
       "   * Render data to the DOM node\n",
       "   */\n",
       "  function render(props, node) {\n",
       "    const script = document.createElement(\"script\");\n",
       "    node.appendChild(script);\n",
       "  }\n",
       "\n",
       "  /**\n",
       "   * Handle when an output is cleared or removed\n",
       "   */\n",
       "  function handleClearOutput(event, handle) {\n",
       "    function drop(id) {\n",
       "      const view = Bokeh.index.get_by_id(id)\n",
       "      if (view != null) {\n",
       "        view.model.document.clear()\n",
       "        Bokeh.index.delete(view)\n",
       "      }\n",
       "    }\n",
       "\n",
       "    const cell = handle.cell;\n",
       "\n",
       "    const id = cell.output_area._bokeh_element_id;\n",
       "    const server_id = cell.output_area._bokeh_server_id;\n",
       "\n",
       "    // Clean up Bokeh references\n",
       "    if (id != null) {\n",
       "      drop(id)\n",
       "    }\n",
       "\n",
       "    if (server_id !== undefined) {\n",
       "      // Clean up Bokeh references\n",
       "      const cmd_clean = \"from bokeh.io.state import curstate; print(curstate().uuid_to_server['\" + server_id + \"'].get_sessions()[0].document.roots[0]._id)\";\n",
       "      cell.notebook.kernel.execute(cmd_clean, {\n",
       "        iopub: {\n",
       "          output: function(msg) {\n",
       "            const id = msg.content.text.trim()\n",
       "            drop(id)\n",
       "          }\n",
       "        }\n",
       "      });\n",
       "      // Destroy server and session\n",
       "      const cmd_destroy = \"import bokeh.io.notebook as ion; ion.destroy_server('\" + server_id + \"')\";\n",
       "      cell.notebook.kernel.execute(cmd_destroy);\n",
       "    }\n",
       "  }\n",
       "\n",
       "  /**\n",
       "   * Handle when a new output is added\n",
       "   */\n",
       "  function handleAddOutput(event, handle) {\n",
       "    const output_area = handle.output_area;\n",
       "    const output = handle.output;\n",
       "\n",
       "    // limit handleAddOutput to display_data with EXEC_MIME_TYPE content only\n",
       "    if ((output.output_type != \"display_data\") || (!Object.prototype.hasOwnProperty.call(output.data, EXEC_MIME_TYPE))) {\n",
       "      return\n",
       "    }\n",
       "\n",
       "    const toinsert = output_area.element.find(\".\" + CLASS_NAME.split(' ')[0]);\n",
       "\n",
       "    if (output.metadata[EXEC_MIME_TYPE][\"id\"] !== undefined) {\n",
       "      toinsert[toinsert.length - 1].firstChild.textContent = output.data[JS_MIME_TYPE];\n",
       "      // store reference to embed id on output_area\n",
       "      output_area._bokeh_element_id = output.metadata[EXEC_MIME_TYPE][\"id\"];\n",
       "    }\n",
       "    if (output.metadata[EXEC_MIME_TYPE][\"server_id\"] !== undefined) {\n",
       "      const bk_div = document.createElement(\"div\");\n",
       "      bk_div.innerHTML = output.data[HTML_MIME_TYPE];\n",
       "      const script_attrs = bk_div.children[0].attributes;\n",
       "      for (let i = 0; i < script_attrs.length; i++) {\n",
       "        toinsert[toinsert.length - 1].firstChild.setAttribute(script_attrs[i].name, script_attrs[i].value);\n",
       "        toinsert[toinsert.length - 1].firstChild.textContent = bk_div.children[0].textContent\n",
       "      }\n",
       "      // store reference to server id on output_area\n",
       "      output_area._bokeh_server_id = output.metadata[EXEC_MIME_TYPE][\"server_id\"];\n",
       "    }\n",
       "  }\n",
       "\n",
       "  function register_renderer(events, OutputArea) {\n",
       "\n",
       "    function append_mime(data, metadata, element) {\n",
       "      // create a DOM node to render to\n",
       "      const toinsert = this.create_output_subarea(\n",
       "        metadata,\n",
       "        CLASS_NAME,\n",
       "        EXEC_MIME_TYPE\n",
       "      );\n",
       "      this.keyboard_manager.register_events(toinsert);\n",
       "      // Render to node\n",
       "      const props = {data: data, metadata: metadata[EXEC_MIME_TYPE]};\n",
       "      render(props, toinsert[toinsert.length - 1]);\n",
       "      element.append(toinsert);\n",
       "      return toinsert\n",
       "    }\n",
       "\n",
       "    /* Handle when an output is cleared or removed */\n",
       "    events.on('clear_output.CodeCell', handleClearOutput);\n",
       "    events.on('delete.Cell', handleClearOutput);\n",
       "\n",
       "    /* Handle when a new output is added */\n",
       "    events.on('output_added.OutputArea', handleAddOutput);\n",
       "\n",
       "    /**\n",
       "     * Register the mime type and append_mime function with output_area\n",
       "     */\n",
       "    OutputArea.prototype.register_mime_type(EXEC_MIME_TYPE, append_mime, {\n",
       "      /* Is output safe? */\n",
       "      safe: true,\n",
       "      /* Index of renderer in `output_area.display_order` */\n",
       "      index: 0\n",
       "    });\n",
       "  }\n",
       "\n",
       "  // register the mime type if in Jupyter Notebook environment and previously unregistered\n",
       "  if (root.Jupyter !== undefined) {\n",
       "    const events = require('base/js/events');\n",
       "    const OutputArea = require('notebook/js/outputarea').OutputArea;\n",
       "\n",
       "    if (OutputArea.prototype.mime_types().indexOf(EXEC_MIME_TYPE) == -1) {\n",
       "      register_renderer(events, OutputArea);\n",
       "    }\n",
       "  }\n",
       "  if (typeof (root._bokeh_timeout) === \"undefined\" || force === true) {\n",
       "    root._bokeh_timeout = Date.now() + 5000;\n",
       "    root._bokeh_failed_load = false;\n",
       "  }\n",
       "\n",
       "  const NB_LOAD_WARNING = {'data': {'text/html':\n",
       "     \"<div style='background-color: #fdd'>\\n\"+\n",
       "     \"<p>\\n\"+\n",
       "     \"BokehJS does not appear to have successfully loaded. If loading BokehJS from CDN, this \\n\"+\n",
       "     \"may be due to a slow or bad network connection. Possible fixes:\\n\"+\n",
       "     \"</p>\\n\"+\n",
       "     \"<ul>\\n\"+\n",
       "     \"<li>re-rerun `output_notebook()` to attempt to load from CDN again, or</li>\\n\"+\n",
       "     \"<li>use INLINE resources instead, as so:</li>\\n\"+\n",
       "     \"</ul>\\n\"+\n",
       "     \"<code>\\n\"+\n",
       "     \"from bokeh.resources import INLINE\\n\"+\n",
       "     \"output_notebook(resources=INLINE)\\n\"+\n",
       "     \"</code>\\n\"+\n",
       "     \"</div>\"}};\n",
       "\n",
       "  function display_loaded(error = null) {\n",
       "    const el = document.getElementById(\"e88f87bc-8899-42f6-b6ab-1e1afbbdf052\");\n",
       "    if (el != null) {\n",
       "      const html = (() => {\n",
       "        if (typeof root.Bokeh === \"undefined\") {\n",
       "          if (error == null) {\n",
       "            return \"BokehJS is loading ...\";\n",
       "          } else {\n",
       "            return \"BokehJS failed to load.\";\n",
       "          }\n",
       "        } else {\n",
       "          const prefix = `BokehJS ${root.Bokeh.version}`;\n",
       "          if (error == null) {\n",
       "            return `${prefix} successfully loaded.`;\n",
       "          } else {\n",
       "            return `${prefix} <b>encountered errors</b> while loading and may not function as expected.`;\n",
       "          }\n",
       "        }\n",
       "      })();\n",
       "      el.innerHTML = html;\n",
       "\n",
       "      if (error != null) {\n",
       "        const wrapper = document.createElement(\"div\");\n",
       "        wrapper.style.overflow = \"auto\";\n",
       "        wrapper.style.height = \"5em\";\n",
       "        wrapper.style.resize = \"vertical\";\n",
       "        const content = document.createElement(\"div\");\n",
       "        content.style.fontFamily = \"monospace\";\n",
       "        content.style.whiteSpace = \"pre-wrap\";\n",
       "        content.style.backgroundColor = \"rgb(255, 221, 221)\";\n",
       "        content.textContent = error.stack ?? error.toString();\n",
       "        wrapper.append(content);\n",
       "        el.append(wrapper);\n",
       "      }\n",
       "    } else if (Date.now() < root._bokeh_timeout) {\n",
       "      setTimeout(() => display_loaded(error), 100);\n",
       "    }\n",
       "  }\n",
       "\n",
       "  function run_callbacks() {\n",
       "    try {\n",
       "      root._bokeh_onload_callbacks.forEach(function(callback) {\n",
       "        if (callback != null)\n",
       "          callback();\n",
       "      });\n",
       "    } finally {\n",
       "      delete root._bokeh_onload_callbacks\n",
       "    }\n",
       "    console.debug(\"Bokeh: all callbacks have finished\");\n",
       "  }\n",
       "\n",
       "  function load_libs(css_urls, js_urls, callback) {\n",
       "    if (css_urls == null) css_urls = [];\n",
       "    if (js_urls == null) js_urls = [];\n",
       "\n",
       "    root._bokeh_onload_callbacks.push(callback);\n",
       "    if (root._bokeh_is_loading > 0) {\n",
       "      console.debug(\"Bokeh: BokehJS is being loaded, scheduling callback at\", now());\n",
       "      return null;\n",
       "    }\n",
       "    if (js_urls == null || js_urls.length === 0) {\n",
       "      run_callbacks();\n",
       "      return null;\n",
       "    }\n",
       "    console.debug(\"Bokeh: BokehJS not loaded, scheduling load and callback at\", now());\n",
       "    root._bokeh_is_loading = css_urls.length + js_urls.length;\n",
       "\n",
       "    function on_load() {\n",
       "      root._bokeh_is_loading--;\n",
       "      if (root._bokeh_is_loading === 0) {\n",
       "        console.debug(\"Bokeh: all BokehJS libraries/stylesheets loaded\");\n",
       "        run_callbacks()\n",
       "      }\n",
       "    }\n",
       "\n",
       "    function on_error(url) {\n",
       "      console.error(\"failed to load \" + url);\n",
       "    }\n",
       "\n",
       "    for (let i = 0; i < css_urls.length; i++) {\n",
       "      const url = css_urls[i];\n",
       "      const element = document.createElement(\"link\");\n",
       "      element.onload = on_load;\n",
       "      element.onerror = on_error.bind(null, url);\n",
       "      element.rel = \"stylesheet\";\n",
       "      element.type = \"text/css\";\n",
       "      element.href = url;\n",
       "      console.debug(\"Bokeh: injecting link tag for BokehJS stylesheet: \", url);\n",
       "      document.body.appendChild(element);\n",
       "    }\n",
       "\n",
       "    for (let i = 0; i < js_urls.length; i++) {\n",
       "      const url = js_urls[i];\n",
       "      const element = document.createElement('script');\n",
       "      element.onload = on_load;\n",
       "      element.onerror = on_error.bind(null, url);\n",
       "      element.async = false;\n",
       "      element.src = url;\n",
       "      console.debug(\"Bokeh: injecting script tag for BokehJS library: \", url);\n",
       "      document.head.appendChild(element);\n",
       "    }\n",
       "  };\n",
       "\n",
       "  function inject_raw_css(css) {\n",
       "    const element = document.createElement(\"style\");\n",
       "    element.appendChild(document.createTextNode(css));\n",
       "    document.body.appendChild(element);\n",
       "  }\n",
       "\n",
       "  const js_urls = [\"https://cdn.bokeh.org/bokeh/release/bokeh-3.7.3.min.js\", \"https://cdn.bokeh.org/bokeh/release/bokeh-gl-3.7.3.min.js\", \"https://cdn.bokeh.org/bokeh/release/bokeh-widgets-3.7.3.min.js\", \"https://cdn.bokeh.org/bokeh/release/bokeh-tables-3.7.3.min.js\", \"https://cdn.bokeh.org/bokeh/release/bokeh-mathjax-3.7.3.min.js\"];\n",
       "  const css_urls = [];\n",
       "\n",
       "  const inline_js = [    function(Bokeh) {\n",
       "      Bokeh.set_log_level(\"info\");\n",
       "    },\n",
       "function(Bokeh) {\n",
       "    }\n",
       "  ];\n",
       "\n",
       "  function run_inline_js() {\n",
       "    if (root.Bokeh !== undefined || force === true) {\n",
       "      try {\n",
       "            for (let i = 0; i < inline_js.length; i++) {\n",
       "      inline_js[i].call(root, root.Bokeh);\n",
       "    }\n",
       "\n",
       "      } catch (error) {display_loaded(error);throw error;\n",
       "      }if (force === true) {\n",
       "        display_loaded();\n",
       "      }} else if (Date.now() < root._bokeh_timeout) {\n",
       "      setTimeout(run_inline_js, 100);\n",
       "    } else if (!root._bokeh_failed_load) {\n",
       "      console.log(\"Bokeh: BokehJS failed to load within specified timeout.\");\n",
       "      root._bokeh_failed_load = true;\n",
       "    } else if (force !== true) {\n",
       "      const cell = $(document.getElementById(\"e88f87bc-8899-42f6-b6ab-1e1afbbdf052\")).parents('.cell').data().cell;\n",
       "      cell.output_area.append_execute_result(NB_LOAD_WARNING)\n",
       "    }\n",
       "  }\n",
       "\n",
       "  if (root._bokeh_is_loading === 0) {\n",
       "    console.debug(\"Bokeh: BokehJS loaded, going straight to plotting\");\n",
       "    run_inline_js();\n",
       "  } else {\n",
       "    load_libs(css_urls, js_urls, function() {\n",
       "      console.debug(\"Bokeh: BokehJS plotting callback run at\", now());\n",
       "      run_inline_js();\n",
       "    });\n",
       "  }\n",
       "}(window));"
      ],
      "application/vnd.bokehjs_load.v0+json": "'use strict';\n(function(root) {\n  function now() {\n    return new Date();\n  }\n\n  const force = true;\n\n  if (typeof root._bokeh_onload_callbacks === \"undefined\" || force === true) {\n    root._bokeh_onload_callbacks = [];\n    root._bokeh_is_loading = undefined;\n  }\n\n\n  if (typeof (root._bokeh_timeout) === \"undefined\" || force === true) {\n    root._bokeh_timeout = Date.now() + 5000;\n    root._bokeh_failed_load = false;\n  }\n\n  const NB_LOAD_WARNING = {'data': {'text/html':\n     \"<div style='background-color: #fdd'>\\n\"+\n     \"<p>\\n\"+\n     \"BokehJS does not appear to have successfully loaded. If loading BokehJS from CDN, this \\n\"+\n     \"may be due to a slow or bad network connection. Possible fixes:\\n\"+\n     \"</p>\\n\"+\n     \"<ul>\\n\"+\n     \"<li>re-rerun `output_notebook()` to attempt to load from CDN again, or</li>\\n\"+\n     \"<li>use INLINE resources instead, as so:</li>\\n\"+\n     \"</ul>\\n\"+\n     \"<code>\\n\"+\n     \"from bokeh.resources import INLINE\\n\"+\n     \"output_notebook(resources=INLINE)\\n\"+\n     \"</code>\\n\"+\n     \"</div>\"}};\n\n  function display_loaded(error = null) {\n    const el = document.getElementById(\"e88f87bc-8899-42f6-b6ab-1e1afbbdf052\");\n    if (el != null) {\n      const html = (() => {\n        if (typeof root.Bokeh === \"undefined\") {\n          if (error == null) {\n            return \"BokehJS is loading ...\";\n          } else {\n            return \"BokehJS failed to load.\";\n          }\n        } else {\n          const prefix = `BokehJS ${root.Bokeh.version}`;\n          if (error == null) {\n            return `${prefix} successfully loaded.`;\n          } else {\n            return `${prefix} <b>encountered errors</b> while loading and may not function as expected.`;\n          }\n        }\n      })();\n      el.innerHTML = html;\n\n      if (error != null) {\n        const wrapper = document.createElement(\"div\");\n        wrapper.style.overflow = \"auto\";\n        wrapper.style.height = \"5em\";\n        wrapper.style.resize = \"vertical\";\n        const content = document.createElement(\"div\");\n        content.style.fontFamily = \"monospace\";\n        content.style.whiteSpace = \"pre-wrap\";\n        content.style.backgroundColor = \"rgb(255, 221, 221)\";\n        content.textContent = error.stack ?? error.toString();\n        wrapper.append(content);\n        el.append(wrapper);\n      }\n    } else if (Date.now() < root._bokeh_timeout) {\n      setTimeout(() => display_loaded(error), 100);\n    }\n  }\n\n  function run_callbacks() {\n    try {\n      root._bokeh_onload_callbacks.forEach(function(callback) {\n        if (callback != null)\n          callback();\n      });\n    } finally {\n      delete root._bokeh_onload_callbacks\n    }\n    console.debug(\"Bokeh: all callbacks have finished\");\n  }\n\n  function load_libs(css_urls, js_urls, callback) {\n    if (css_urls == null) css_urls = [];\n    if (js_urls == null) js_urls = [];\n\n    root._bokeh_onload_callbacks.push(callback);\n    if (root._bokeh_is_loading > 0) {\n      console.debug(\"Bokeh: BokehJS is being loaded, scheduling callback at\", now());\n      return null;\n    }\n    if (js_urls == null || js_urls.length === 0) {\n      run_callbacks();\n      return null;\n    }\n    console.debug(\"Bokeh: BokehJS not loaded, scheduling load and callback at\", now());\n    root._bokeh_is_loading = css_urls.length + js_urls.length;\n\n    function on_load() {\n      root._bokeh_is_loading--;\n      if (root._bokeh_is_loading === 0) {\n        console.debug(\"Bokeh: all BokehJS libraries/stylesheets loaded\");\n        run_callbacks()\n      }\n    }\n\n    function on_error(url) {\n      console.error(\"failed to load \" + url);\n    }\n\n    for (let i = 0; i < css_urls.length; i++) {\n      const url = css_urls[i];\n      const element = document.createElement(\"link\");\n      element.onload = on_load;\n      element.onerror = on_error.bind(null, url);\n      element.rel = \"stylesheet\";\n      element.type = \"text/css\";\n      element.href = url;\n      console.debug(\"Bokeh: injecting link tag for BokehJS stylesheet: \", url);\n      document.body.appendChild(element);\n    }\n\n    for (let i = 0; i < js_urls.length; i++) {\n      const url = js_urls[i];\n      const element = document.createElement('script');\n      element.onload = on_load;\n      element.onerror = on_error.bind(null, url);\n      element.async = false;\n      element.src = url;\n      console.debug(\"Bokeh: injecting script tag for BokehJS library: \", url);\n      document.head.appendChild(element);\n    }\n  };\n\n  function inject_raw_css(css) {\n    const element = document.createElement(\"style\");\n    element.appendChild(document.createTextNode(css));\n    document.body.appendChild(element);\n  }\n\n  const js_urls = [\"https://cdn.bokeh.org/bokeh/release/bokeh-3.7.3.min.js\", \"https://cdn.bokeh.org/bokeh/release/bokeh-gl-3.7.3.min.js\", \"https://cdn.bokeh.org/bokeh/release/bokeh-widgets-3.7.3.min.js\", \"https://cdn.bokeh.org/bokeh/release/bokeh-tables-3.7.3.min.js\", \"https://cdn.bokeh.org/bokeh/release/bokeh-mathjax-3.7.3.min.js\"];\n  const css_urls = [];\n\n  const inline_js = [    function(Bokeh) {\n      Bokeh.set_log_level(\"info\");\n    },\nfunction(Bokeh) {\n    }\n  ];\n\n  function run_inline_js() {\n    if (root.Bokeh !== undefined || force === true) {\n      try {\n            for (let i = 0; i < inline_js.length; i++) {\n      inline_js[i].call(root, root.Bokeh);\n    }\n\n      } catch (error) {display_loaded(error);throw error;\n      }if (force === true) {\n        display_loaded();\n      }} else if (Date.now() < root._bokeh_timeout) {\n      setTimeout(run_inline_js, 100);\n    } else if (!root._bokeh_failed_load) {\n      console.log(\"Bokeh: BokehJS failed to load within specified timeout.\");\n      root._bokeh_failed_load = true;\n    } else if (force !== true) {\n      const cell = $(document.getElementById(\"e88f87bc-8899-42f6-b6ab-1e1afbbdf052\")).parents('.cell').data().cell;\n      cell.output_area.append_execute_result(NB_LOAD_WARNING)\n    }\n  }\n\n  if (root._bokeh_is_loading === 0) {\n    console.debug(\"Bokeh: BokehJS loaded, going straight to plotting\");\n    run_inline_js();\n  } else {\n    load_libs(css_urls, js_urls, function() {\n      console.debug(\"Bokeh: BokehJS plotting callback run at\", now());\n      run_inline_js();\n    });\n  }\n}(window));"
     },
     "metadata": {},
     "output_type": "display_data"
    }
   ],
   "source": [
    "\n",
    "import warnings\n",
    "warnings.filterwarnings(\"ignore\")\n",
    "\n",
    "import pandas as pd\n",
    "import numpy as np\n",
    "import wbdata \n",
    "import datetime as dt\n",
    "\n",
    "import matplotlib.pyplot as plt\n",
    "import seaborn as sns\n",
    "\n",
    "import plotly.graph_objects as go\n",
    "import plotly.express as px\n",
    "\n",
    "import altair as alt\n",
    "\n",
    "from bokeh.plotting import figure, show\n",
    "from bokeh.io import output_notebook\n",
    "from bokeh.models import HoverTool\n",
    "output_notebook()\n",
    "\n",
    "# pandas display\n",
    "pd.set_option(\"display.max_rows\", 8)\n",
    "pd.set_option(\"display.max_columns\", None)\n"
   ]
  },
  {
   "cell_type": "markdown",
   "id": "bca5ee97",
   "metadata": {},
   "source": [
    "\n",
    "## 3) Fetch World Bank data with `wbdata`\n",
    "\n",
    "We'll pull **GDP per capita (current US$)** (`NY.GDP.PCAP.CD`) for a handful of countries from **2000 through the most recent available year**.\n"
   ]
  },
  {
   "cell_type": "code",
   "execution_count": 10,
   "id": "c7d015f4",
   "metadata": {
    "tags": []
   },
   "outputs": [
    {
     "ename": "TypeError",
     "evalue": "got an unexpected keyword argument 'convert_date'",
     "output_type": "error",
     "traceback": [
      "\u001b[1;31m---------------------------------------------------------------------------\u001b[0m",
      "\u001b[1;31mTypeError\u001b[0m                                 Traceback (most recent call last)",
      "Cell \u001b[1;32mIn[10], line 11\u001b[0m\n\u001b[0;32m      8\u001b[0m indicators \u001b[38;5;241m=\u001b[39m {\u001b[38;5;124m'\u001b[39m\u001b[38;5;124mNY.GNP.PCAP.CD\u001b[39m\u001b[38;5;124m'\u001b[39m:\u001b[38;5;124m'\u001b[39m\u001b[38;5;124mGNI per Capita\u001b[39m\u001b[38;5;124m'\u001b[39m}\n\u001b[0;32m     10\u001b[0m \u001b[38;5;66;03m#grab indicators above for countires above and load into data frame\u001b[39;00m\n\u001b[1;32m---> 11\u001b[0m df \u001b[38;5;241m=\u001b[39m wbdata\u001b[38;5;241m.\u001b[39mget_dataframe(indicators, country\u001b[38;5;241m=\u001b[39mcountries, convert_date\u001b[38;5;241m=\u001b[39m\u001b[38;5;28;01mFalse\u001b[39;00m)\n\u001b[0;32m     13\u001b[0m \u001b[38;5;66;03m#df is \"pivoted\", pandas' unstack fucntion helps reshape it into something plottable\u001b[39;00m\n\u001b[0;32m     14\u001b[0m dfu \u001b[38;5;241m=\u001b[39m df\u001b[38;5;241m.\u001b[39munstack(level\u001b[38;5;241m=\u001b[39m\u001b[38;5;241m0\u001b[39m)\n",
      "File \u001b[1;32m~\\anaconda3\\Lib\\site-packages\\decorator.py:231\u001b[0m, in \u001b[0;36mdecorate.<locals>.fun\u001b[1;34m(*args, **kw)\u001b[0m\n\u001b[0;32m    229\u001b[0m \u001b[38;5;28;01mdef\u001b[39;00m \u001b[38;5;21mfun\u001b[39m(\u001b[38;5;241m*\u001b[39margs, \u001b[38;5;241m*\u001b[39m\u001b[38;5;241m*\u001b[39mkw):\n\u001b[0;32m    230\u001b[0m     \u001b[38;5;28;01mif\u001b[39;00m \u001b[38;5;129;01mnot\u001b[39;00m kwsyntax:\n\u001b[1;32m--> 231\u001b[0m         args, kw \u001b[38;5;241m=\u001b[39m fix(args, kw, sig)\n\u001b[0;32m    232\u001b[0m     \u001b[38;5;28;01mreturn\u001b[39;00m caller(func, \u001b[38;5;241m*\u001b[39m(extras \u001b[38;5;241m+\u001b[39m args), \u001b[38;5;241m*\u001b[39m\u001b[38;5;241m*\u001b[39mkw)\n",
      "File \u001b[1;32m~\\anaconda3\\Lib\\site-packages\\decorator.py:203\u001b[0m, in \u001b[0;36mfix\u001b[1;34m(args, kwargs, sig)\u001b[0m\n\u001b[0;32m    199\u001b[0m \u001b[38;5;28;01mdef\u001b[39;00m \u001b[38;5;21mfix\u001b[39m(args, kwargs, sig):\n\u001b[0;32m    200\u001b[0m \u001b[38;5;250m    \u001b[39m\u001b[38;5;124;03m\"\"\"\u001b[39;00m\n\u001b[0;32m    201\u001b[0m \u001b[38;5;124;03m    Fix args and kwargs to be consistent with the signature\u001b[39;00m\n\u001b[0;32m    202\u001b[0m \u001b[38;5;124;03m    \"\"\"\u001b[39;00m\n\u001b[1;32m--> 203\u001b[0m     ba \u001b[38;5;241m=\u001b[39m sig\u001b[38;5;241m.\u001b[39mbind(\u001b[38;5;241m*\u001b[39margs, \u001b[38;5;241m*\u001b[39m\u001b[38;5;241m*\u001b[39mkwargs)\n\u001b[0;32m    204\u001b[0m     ba\u001b[38;5;241m.\u001b[39mapply_defaults()  \u001b[38;5;66;03m# needed for test_dan_schult\u001b[39;00m\n\u001b[0;32m    205\u001b[0m     \u001b[38;5;28;01mreturn\u001b[39;00m ba\u001b[38;5;241m.\u001b[39margs, ba\u001b[38;5;241m.\u001b[39mkwargs\n",
      "File \u001b[1;32m~\\anaconda3\\Lib\\inspect.py:3212\u001b[0m, in \u001b[0;36mSignature.bind\u001b[1;34m(self, *args, **kwargs)\u001b[0m\n\u001b[0;32m   3207\u001b[0m \u001b[38;5;28;01mdef\u001b[39;00m \u001b[38;5;21mbind\u001b[39m(\u001b[38;5;28mself\u001b[39m, \u001b[38;5;241m/\u001b[39m, \u001b[38;5;241m*\u001b[39margs, \u001b[38;5;241m*\u001b[39m\u001b[38;5;241m*\u001b[39mkwargs):\n\u001b[0;32m   3208\u001b[0m \u001b[38;5;250m    \u001b[39m\u001b[38;5;124;03m\"\"\"Get a BoundArguments object, that maps the passed `args`\u001b[39;00m\n\u001b[0;32m   3209\u001b[0m \u001b[38;5;124;03m    and `kwargs` to the function's signature.  Raises `TypeError`\u001b[39;00m\n\u001b[0;32m   3210\u001b[0m \u001b[38;5;124;03m    if the passed arguments can not be bound.\u001b[39;00m\n\u001b[0;32m   3211\u001b[0m \u001b[38;5;124;03m    \"\"\"\u001b[39;00m\n\u001b[1;32m-> 3212\u001b[0m     \u001b[38;5;28;01mreturn\u001b[39;00m \u001b[38;5;28mself\u001b[39m\u001b[38;5;241m.\u001b[39m_bind(args, kwargs)\n",
      "File \u001b[1;32m~\\anaconda3\\Lib\\inspect.py:3201\u001b[0m, in \u001b[0;36mSignature._bind\u001b[1;34m(self, args, kwargs, partial)\u001b[0m\n\u001b[0;32m   3199\u001b[0m         arguments[kwargs_param\u001b[38;5;241m.\u001b[39mname] \u001b[38;5;241m=\u001b[39m kwargs\n\u001b[0;32m   3200\u001b[0m     \u001b[38;5;28;01melse\u001b[39;00m:\n\u001b[1;32m-> 3201\u001b[0m         \u001b[38;5;28;01mraise\u001b[39;00m \u001b[38;5;167;01mTypeError\u001b[39;00m(\n\u001b[0;32m   3202\u001b[0m             \u001b[38;5;124m'\u001b[39m\u001b[38;5;124mgot an unexpected keyword argument \u001b[39m\u001b[38;5;132;01m{arg!r}\u001b[39;00m\u001b[38;5;124m'\u001b[39m\u001b[38;5;241m.\u001b[39mformat(\n\u001b[0;32m   3203\u001b[0m                 arg\u001b[38;5;241m=\u001b[39m\u001b[38;5;28mnext\u001b[39m(\u001b[38;5;28miter\u001b[39m(kwargs))))\n\u001b[0;32m   3205\u001b[0m \u001b[38;5;28;01mreturn\u001b[39;00m \u001b[38;5;28mself\u001b[39m\u001b[38;5;241m.\u001b[39m_bound_arguments_cls(\u001b[38;5;28mself\u001b[39m, arguments)\n",
      "\u001b[1;31mTypeError\u001b[0m: got an unexpected keyword argument 'convert_date'"
     ]
    }
   ],
   "source": [
    "import matplotlib.pyplot as plt\n",
    "\n",
    "\n",
    "#set up the countries I want\n",
    "countries = [\"CL\",\"UY\",\"HU\"]\n",
    " \n",
    "#set up the indicator I want (just build up the dict if you want more than one)\n",
    "indicators = {'NY.GNP.PCAP.CD':'GNI per Capita'}\n",
    " \n",
    "#grab indicators above for countires above and load into data frame\n",
    "df = wbdata.get_dataframe(indicators, country=countries, convert_date=False)\n",
    "\n",
    "#df is \"pivoted\", pandas' unstack fucntion helps reshape it into something plottable\n",
    "dfu = df.unstack(level=0)\n",
    "\n",
    "# a simple matplotlib plot with legend, labels and a title\n",
    "dfu.plot(); \n",
    "plt.legend(loc='best'); \n",
    "plt.title(\"GNI Per Capita ($USD, Atlas Method)\"); \n",
    "plt.xlabel('Date'); plt.ylabel('GNI Per Capita ($USD, Atlas Method')\n",
    "\n"
   ]
  },
  {
   "cell_type": "markdown",
   "id": "292d7ddf",
   "metadata": {},
   "source": [
    "\n",
    "## 4) Quick EDA\n"
   ]
  },
  {
   "cell_type": "code",
   "execution_count": null,
   "id": "beeb8800",
   "metadata": {},
   "outputs": [],
   "source": [
    "\n",
    "summary = (\n",
    "    df.groupby(\"country\")[\"gdp_per_capita_usd\"]\n",
    "    .agg([\"count\", \"min\", \"median\", \"mean\", \"max\"])\n",
    "    .round(2)\n",
    "    .sort_values(\"mean\", ascending=False)\n",
    ")\n",
    "summary\n"
   ]
  },
  {
   "cell_type": "markdown",
   "id": "e59ce50f",
   "metadata": {},
   "source": [
    "\n",
    "## 5) Matplotlib line chart\n"
   ]
  },
  {
   "cell_type": "code",
   "execution_count": null,
   "id": "c25ca4a3",
   "metadata": {},
   "outputs": [],
   "source": [
    "\n",
    "plt.figure(figsize=(10,6))\n",
    "for c in countries:\n",
    "    sub = df[df[\"country\"] == c]\n",
    "    plt.plot(sub[\"date\"], sub[\"gdp_per_capita_usd\"], label=c)\n",
    "plt.title(\"GDP per capita (current US$)\")\n",
    "plt.xlabel(\"Year\")\n",
    "plt.ylabel(\"USD\")\n",
    "plt.legend()\n",
    "plt.grid(True)\n",
    "plt.show()\n"
   ]
  },
  {
   "cell_type": "markdown",
   "id": "24990435",
   "metadata": {},
   "source": [
    "\n",
    "## 6) Seaborn lineplot + facet\n"
   ]
  },
  {
   "cell_type": "code",
   "execution_count": null,
   "id": "17366c99",
   "metadata": {},
   "outputs": [],
   "source": [
    "\n",
    "sns.lineplot(data=df, x=\"date\", y=\"gdp_per_capita_usd\", hue=\"country\")\n",
    "plt.title(\"GDP per capita by Country\")\n",
    "plt.xlabel(\"Year\")\n",
    "plt.ylabel(\"USD\")\n",
    "plt.show()\n",
    "\n",
    "# FacetGrid example (small multiples)\n",
    "g = sns.FacetGrid(df, col=\"country\", col_wrap=3, sharey=False, height=3)\n",
    "g.map_dataframe(sns.lineplot, x=\"date\", y=\"gdp_per_capita_usd\")\n",
    "g.set_titles(\"{col_name}\")\n",
    "for ax in g.axes.flatten():\n",
    "    ax.set_xlabel(\"Year\")\n",
    "    ax.set_ylabel(\"USD\")\n",
    "plt.show()\n"
   ]
  },
  {
   "cell_type": "markdown",
   "id": "f725ac60",
   "metadata": {},
   "source": [
    "\n",
    "## 7) Plotly (Graph Objects) interactive line\n"
   ]
  },
  {
   "cell_type": "code",
   "execution_count": null,
   "id": "69c0a417",
   "metadata": {},
   "outputs": [],
   "source": [
    "\n",
    "fig = go.Figure()\n",
    "for c in countries:\n",
    "    sub = df[df[\"country\"] == c]\n",
    "    fig.add_trace(go.Scatter(x=sub[\"date\"], y=sub[\"gdp_per_capita_usd\"], mode=\"lines\", name=c))\n",
    "fig.update_layout(\n",
    "    title=\"GDP per capita (current US$)\",\n",
    "    xaxis_title=\"Year\",\n",
    "    yaxis_title=\"USD\",\n",
    "    hovermode=\"x unified\"\n",
    ")\n",
    "fig.show()\n"
   ]
  },
  {
   "cell_type": "markdown",
   "id": "d917a1d7",
   "metadata": {},
   "source": [
    "\n",
    "## 8) Plotly Express quick chart\n"
   ]
  },
  {
   "cell_type": "code",
   "execution_count": null,
   "id": "198f27f8",
   "metadata": {},
   "outputs": [],
   "source": [
    "\n",
    "fig = px.line(df, x=\"date\", y=\"gdp_per_capita_usd\", color=\"country\",\n",
    "              title=\"GDP per capita (current US$) — Plotly Express\")\n",
    "fig.show()\n"
   ]
  },
  {
   "cell_type": "markdown",
   "id": "02e526a2",
   "metadata": {},
   "source": [
    "\n",
    "## 9) Altair\n"
   ]
  },
  {
   "cell_type": "code",
   "execution_count": null,
   "id": "ca4584dc",
   "metadata": {},
   "outputs": [],
   "source": [
    "\n",
    "alt.data_transformers.disable_max_rows()\n",
    "chart = (\n",
    "    alt.Chart(df)\n",
    "    .mark_line()\n",
    "    .encode(\n",
    "        x=\"date:T\",\n",
    "        y=alt.Y(\"gdp_per_capita_usd:Q\", title=\"USD\"),\n",
    "        color=\"country:N\",\n",
    "        tooltip=[\"country\", alt.Tooltip(\"date:T\", title=\"Year\"), alt.Tooltip(\"gdp_per_capita_usd:Q\", format=\",.0f\", title=\"USD\")]\n",
    "    )\n",
    "    .properties(width=700, height=400, title=\"GDP per capita (current US$) — Altair\")\n",
    "    .interactive()\n",
    ")\n",
    "chart\n"
   ]
  },
  {
   "cell_type": "markdown",
   "id": "2341c2fd",
   "metadata": {},
   "source": [
    "\n",
    "## 10) Bokeh\n"
   ]
  },
  {
   "cell_type": "code",
   "execution_count": null,
   "id": "14028d98",
   "metadata": {},
   "outputs": [],
   "source": [
    "\n",
    "p = figure(title=\"GDP per capita (current US$) — Bokeh\", x_axis_type=\"datetime\", width=800, height=400, tooltips=[(\"Country\",\"$name\"),(\"Year\",\"@x{%Y}\"),(\"USD\",\"@y{0,0}\")])\n",
    "p.add_tools(HoverTool(tooltips=None, mode='vline'))\n",
    "\n",
    "for c in countries:\n",
    "    sub = df[df[\"country\"] == c]\n",
    "    p.line(x=sub[\"date\"], y=sub[\"gdp_per_capita_usd\"], legend_label=c, name=c)\n",
    "\n",
    "p.xaxis.axis_label = \"Year\"\n",
    "p.yaxis.axis_label = \"USD\"\n",
    "p.legend.click_policy = \"hide\"\n",
    "show(p)\n"
   ]
  },
  {
   "cell_type": "markdown",
   "id": "29489671",
   "metadata": {},
   "source": [
    "\n",
    "## 11) Note on vendor BI tools (Power BI, Tableau, etc.)\n",
    "\n",
    "For production dashboards or where enterprise governance, data modeling, and distribution are key, consider vendor BI solutions:\n",
    "- **Power BI**: tight Microsoft 365/Teams integration, robust DAX modeling, row-level security, and enterprise deployment pipelines.\n",
    "- **Tableau**: powerful visual analytics & storytelling, strong viz grammar, and mature Server/Cloud for sharing.\n",
    "- **Looker/Looker Studio**: semantic modeling (LookML), Google Cloud integration, and lightweight reporting.\n",
    "Python notebooks remain excellent for rapid prototyping, data science exploration, and custom analytics that exceed the typical scope of canned visuals.\n"
   ]
  },
  {
   "cell_type": "markdown",
   "id": "f0ac23bf",
   "metadata": {},
   "source": [
    "\n",
    "## 12) Appendix — Change indicators or countries\n",
    "\n",
    "- To use a different indicator, replace `NY.GDP.PCAP.CD` with any World Bank indicator code (e.g., `SP.POP.TOTL` for population).\n",
    "- To change countries, update the `countries = [...]` list with ISO3 codes.\n"
   ]
  },
  {
   "cell_type": "code",
   "execution_count": null,
   "id": "a2a127d2",
   "metadata": {},
   "outputs": [],
   "source": [
    "\n",
    "# Example: switch to population and re-run the EDA/plot cells\n",
    "# indicator = {\"SP.POP.TOTL\": \"population\"}\n",
    "# df_raw = wb.get_dataframe(indicator, country=countries, data_date=data_date, convert_date=True)\n",
    "# df = df_raw.reset_index().rename(columns={\"country\": \"country\", \"date\": \"date\"}).sort_values([\"country\", \"date\"])\n",
    "# df.head()\n"
   ]
  },
  {
   "cell_type": "markdown",
   "id": "dc0d03e4",
   "metadata": {},
   "source": [
    "\n",
    "## 13) Optional extras — more visualization libraries\n",
    "\n",
    "Run this once if you want the additional approaches below.\n"
   ]
  },
  {
   "cell_type": "code",
   "execution_count": null,
   "id": "93bbb442",
   "metadata": {},
   "outputs": [],
   "source": [
    "\n",
    "%pip -q install hvplot holoviews panel datashader geopandas folium networkx pyvis plotnine --upgrade\n"
   ]
  },
  {
   "cell_type": "markdown",
   "id": "567445a7",
   "metadata": {},
   "source": [
    "\n",
    "## 14) hvPlot / HoloViews (interactive, declarative)\n",
    "\n",
    "`hvPlot` gives you a **high-level, pandas-like** plotting API on top of **HoloViews** with Bokeh/Plotly backends.\n"
   ]
  },
  {
   "cell_type": "code",
   "execution_count": null,
   "id": "d7e56936",
   "metadata": {},
   "outputs": [],
   "source": [
    "\n",
    "import hvplot.pandas  # registers .hvplot accessor\n",
    "import holoviews as hv\n",
    "hv.extension('bokeh')\n",
    "\n",
    "# Interactive line using hvPlot\n",
    "(df\n",
    " .set_index('date')\n",
    " .pivot(columns='country', values='gdp_per_capita_usd')\n",
    " .hvplot.line(width=800, height=400, legend='top_left', title='GDP per capita — hvPlot'))\n"
   ]
  },
  {
   "cell_type": "markdown",
   "id": "2f76391a",
   "metadata": {},
   "source": [
    "\n",
    "## 15) Panel mini-dashboard (HoloViz)\n",
    "\n",
    "A lightweight dashboard alternative to Streamlit/Dash that works with Bokeh/Plotly/Altair/HoloViews.\n"
   ]
  },
  {
   "cell_type": "code",
   "execution_count": null,
   "id": "4568e259",
   "metadata": {},
   "outputs": [],
   "source": [
    "\n",
    "import panel as pn\n",
    "pn.extension('plotly')\n",
    "\n",
    "countries_select = pn.widgets.MultiChoice(name='Countries', value=['USA','GBR','IND'], options=sorted(df['country'].unique().tolist()))\n",
    "@pn.depends(countries_select)\n",
    "def panel_plot(countries):\n",
    "    sub = df[df['country'].isin(countries)]\n",
    "    return px.line(sub, x='date', y='gdp_per_capita_usd', color='country', title='GDP per capita — Panel + Plotly')\n",
    "\n",
    "pn.Row(countries_select, pn.bind(panel_plot, countries_select))\n"
   ]
  },
  {
   "cell_type": "markdown",
   "id": "8688837d",
   "metadata": {},
   "source": [
    "\n",
    "## 16) Folium (interactive maps)\n",
    "\n",
    "Choropleth map of the **latest GDP per capita** by country using `folium` + a public world GeoJSON.\n"
   ]
  },
  {
   "cell_type": "code",
   "execution_count": null,
   "id": "eb47d2e8",
   "metadata": {},
   "outputs": [],
   "source": [
    "\n",
    "import folium, json, pandas as pd, numpy as np\n",
    "\n",
    "# Latest year per country\n",
    "latest = df.sort_values('date').groupby('country', as_index=False).tail(1)\n",
    "latest = latest[['country','gdp_per_capita_usd']].rename(columns={'country':'ISO_A3','gdp_per_capita_usd':'value'})\n",
    "\n",
    "# Load world boundaries\n",
    "import urllib.request, ssl\n",
    "ssl._create_default_https_context = ssl._create_unverified_context\n",
    "url = \"https://raw.githubusercontent.com/johan/world.geo.json/master/countries.geo.json\"\n",
    "with urllib.request.urlopen(url) as response:\n",
    "    world_geo = json.loads(response.read().decode())\n",
    "\n",
    "m = folium.Map(location=[20,0], zoom_start=2, tiles=\"cartodbpositron\")\n",
    "folium.Choropleth(\n",
    "    geo_data=world_geo,\n",
    "    data=latest,\n",
    "    columns=['ISO_A3','value'],\n",
    "    key_on='feature.id',\n",
    "    fill_opacity=0.8, line_opacity=0.2,\n",
    "    legend_name='GDP per capita (current US$) — latest',\n",
    ").add_to(m)\n",
    "m\n"
   ]
  },
  {
   "cell_type": "markdown",
   "id": "2d924564",
   "metadata": {},
   "source": [
    "\n",
    "## 17) Network visualization (NetworkX + PyVis)\n",
    "\n",
    "Build a simple **similarity network**: connect countries whose GDP per capita **correlation** exceeds a threshold.\n"
   ]
  },
  {
   "cell_type": "code",
   "execution_count": null,
   "id": "c2c66779",
   "metadata": {},
   "outputs": [],
   "source": [
    "\n",
    "import networkx as nx\n",
    "from pyvis.network import Network\n",
    "\n",
    "# Pivot to wide for correlation\n",
    "wide = (df.pivot_table(index='date', columns='country', values='gdp_per_capita_usd'))\n",
    "corr = wide.corr(min_periods=10)\n",
    "\n",
    "G = nx.Graph()\n",
    "for c in corr.columns:\n",
    "    G.add_node(c)\n",
    "threshold = 0.95\n",
    "for i in corr.columns:\n",
    "    for j in corr.columns:\n",
    "        if i < j and corr.loc[i,j] >= threshold:\n",
    "            G.add_edge(i,j, weight=float(corr.loc[i,j]))\n",
    "\n",
    "net = Network(height=\"500px\", width=\"100%\", notebook=True)\n",
    "net.from_nx(G)\n",
    "net.show(\"network.html\")\n",
    "from IPython.display import IFrame\n",
    "IFrame(src=\"network.html\", width=\"100%\", height=520)\n"
   ]
  },
  {
   "cell_type": "markdown",
   "id": "f3cd53e9",
   "metadata": {},
   "source": [
    "\n",
    "## 18) Plotnine (ggplot-style)\n",
    "\n",
    "A grammar-of-graphics API similar to R's ggplot2.\n"
   ]
  },
  {
   "cell_type": "code",
   "execution_count": null,
   "id": "db431a05",
   "metadata": {},
   "outputs": [],
   "source": [
    "\n",
    "from plotnine import ggplot, aes, geom_line, facet_wrap, labs, theme_minimal\n",
    "\n",
    "p = (ggplot(df, aes('date','gdp_per_capita_usd', color='country'))\n",
    "     + geom_line()\n",
    "     + labs(title='GDP per capita — Plotnine', x='Year', y='USD')\n",
    "     + theme_minimal())\n",
    "p\n"
   ]
  },
  {
   "cell_type": "markdown",
   "id": "d144b881",
   "metadata": {},
   "source": [
    "\n",
    "## 19) Datashader (very large data)\n",
    "\n",
    "For millions of points/lines, use **Datashader** to rasterize efficiently. Example below simulates data for demonstration.\n"
   ]
  },
  {
   "cell_type": "code",
   "execution_count": null,
   "id": "5bd89e45",
   "metadata": {},
   "outputs": [],
   "source": [
    "\n",
    "import datashader as ds\n",
    "import datashader.transfer_functions as tf\n",
    "from datashader.multipolygon import _\n",
    "\n",
    "# Simulate large time series\n",
    "n = 1_000_00\n",
    "rng = pd.date_range('2000-01-01', periods=n, freq='D')\n",
    "vals = np.cumsum(np.random.randn(n))\n",
    "big = pd.DataFrame({'date': rng, 'value': vals})\n",
    "\n",
    "canvas = ds.Canvas(x_range=(big['date'].min().value, big['date'].max().value), y_range=(big['value'].min(), big['value'].max()), plot_width=800, plot_height=300)\n",
    "agg = canvas.line(big, 'date', 'value')\n",
    "tf.shade(agg)\n"
   ]
  },
  {
   "cell_type": "markdown",
   "id": "fbada945",
   "metadata": {},
   "source": [
    "\n",
    "## 20) Notes on other approaches (at a glance)\n",
    "\n",
    "- **Geospatial**: GeoPandas + Cartopy (projection-aware), Kepler.gl (Jupyter widget), Deck.gl via `pydeck`.\n",
    "- **3D & scientific**: PyVista, Mayavi, VTK for volumetric/mesh data; Plotly 3D for quick surfaces.\n",
    "- **Interactive widgets**: `ipywidgets`, `ipympl`, `ipycytoscape` for rich Jupyter interactivity.\n",
    "- **Notebook → app**: Voila (turn notebooks into apps), **Shiny for Python** (R's Shiny port), **Gradio** (fast ML demos).\n",
    "- **Reporting**: `nbconvert`/`papermill`, and static site builds with Quarto.\n",
    "\n",
    "### Google visualization approaches\n",
    "- **Google Charts (Visualization API)**: Rich interactive charts for the web; you can serve data from Python (e.g., with `gviz_api`) and render in HTML/JS.\n",
    "- **Looker Studio (formerly Data Studio)**: Free browser-based dashboards connecting to Sheets, BigQuery, and more.\n",
    "- **Looker (LookML)**: Enterprise semantic layer + governed dashboards; strong integration with BigQuery.\n",
    "- **Google Sheets**: Built-in charts; use **Connected Sheets** for BigQuery-scale analysis without SQL.\n",
    "- **Colab**: Good default table/plot experiences; supports rendering Plotly/Altair/Bokeh; easy to share notebooks with viewers in Google Drive.\n"
   ]
  }
 ],
 "metadata": {
  "kernelspec": {
   "display_name": "Python 3 (ipykernel)",
   "language": "python",
   "name": "python3"
  },
  "language_info": {
   "codemirror_mode": {
    "name": "ipython",
    "version": 3
   },
   "file_extension": ".py",
   "mimetype": "text/x-python",
   "name": "python",
   "nbconvert_exporter": "python",
   "pygments_lexer": "ipython3",
   "version": "3.10.11"
  }
 },
 "nbformat": 4,
 "nbformat_minor": 5
}
